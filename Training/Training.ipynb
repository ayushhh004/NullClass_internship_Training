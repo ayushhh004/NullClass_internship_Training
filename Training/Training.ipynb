{
 "cells": [
  {
   "cell_type": "code",
   "execution_count": null,
   "id": "a9e40220-acef-43f6-91ba-b07d1c19616d",
   "metadata": {},
   "outputs": [],
   "source": [
    "#Basics of Python"
   ]
  },
  {
   "cell_type": "code",
   "execution_count": 1,
   "id": "0bb8cca5-904d-4a85-8391-6d474dbf37dc",
   "metadata": {},
   "outputs": [
    {
     "name": "stdout",
     "output_type": "stream",
     "text": [
      "Hello World\n"
     ]
    }
   ],
   "source": [
    "print(\"Hello World\")"
   ]
  },
  {
   "cell_type": "code",
   "execution_count": 2,
   "id": "5d2e7c24-2a76-40e4-b22b-fc02292dabfb",
   "metadata": {},
   "outputs": [
    {
     "name": "stdout",
     "output_type": "stream",
     "text": [
      "30\n"
     ]
    }
   ],
   "source": [
    "print(5*6)"
   ]
  },
  {
   "cell_type": "code",
   "execution_count": 3,
   "id": "0760b5e1-03b4-47a5-9064-6ef34d733c43",
   "metadata": {},
   "outputs": [],
   "source": [
    "#this is comment"
   ]
  },
  {
   "cell_type": "code",
   "execution_count": 5,
   "id": "5857c101-8b59-48c4-bd04-a552c76e68d3",
   "metadata": {},
   "outputs": [
    {
     "data": {
      "text/plain": [
       "[1, 2, 3, 4]"
      ]
     },
     "execution_count": 5,
     "metadata": {},
     "output_type": "execute_result"
    }
   ],
   "source": [
    "l=[1,2,3,4]\n",
    "l"
   ]
  },
  {
   "cell_type": "code",
   "execution_count": 7,
   "id": "725c6e89-8f8a-422a-9465-83d0ae06001d",
   "metadata": {},
   "outputs": [
    {
     "data": {
      "text/plain": [
       "['windows', 'linux', 'mac']"
      ]
     },
     "execution_count": 7,
     "metadata": {},
     "output_type": "execute_result"
    }
   ],
   "source": [
    "s=[\"windows\",\"linux\",\"mac\"]\n",
    "s"
   ]
  },
  {
   "cell_type": "code",
   "execution_count": 8,
   "id": "63eefd27-7890-4095-bb62-d6b7492995b8",
   "metadata": {},
   "outputs": [
    {
     "data": {
      "text/plain": [
       "[1, 'hi', 4.03]"
      ]
     },
     "execution_count": 8,
     "metadata": {},
     "output_type": "execute_result"
    }
   ],
   "source": [
    "x=[1,'hi',4.03]\n",
    "x"
   ]
  },
  {
   "cell_type": "code",
   "execution_count": 9,
   "id": "d3dea957-e116-462b-a386-034d5a588594",
   "metadata": {},
   "outputs": [
    {
     "data": {
      "text/plain": [
       "('hi', 'hello', 'how are you')"
      ]
     },
     "execution_count": 9,
     "metadata": {},
     "output_type": "execute_result"
    }
   ],
   "source": [
    "t=(\"hi\",\"hello\",\"how are you\")\n",
    "t"
   ]
  },
  {
   "cell_type": "code",
   "execution_count": 11,
   "id": "2a1aa78a-96e7-418c-b996-b2722bae0436",
   "metadata": {},
   "outputs": [
    {
     "data": {
      "text/plain": [
       "('hi', 4.0)"
      ]
     },
     "execution_count": 11,
     "metadata": {},
     "output_type": "execute_result"
    }
   ],
   "source": [
    "t=('hi',4.0)\n",
    "t"
   ]
  },
  {
   "cell_type": "code",
   "execution_count": 13,
   "id": "d3d72737-db4c-4875-8e10-14df85125a68",
   "metadata": {},
   "outputs": [
    {
     "name": "stdout",
     "output_type": "stream",
     "text": [
      "1\n"
     ]
    }
   ],
   "source": [
    "a=4\n",
    "if a%2==0:\n",
    "    print(1)\n",
    "else:\n",
    "    print(0)"
   ]
  },
  {
   "cell_type": "code",
   "execution_count": 15,
   "id": "3fe8aca6-0334-4aed-9bdb-d680c9f033bd",
   "metadata": {},
   "outputs": [
    {
     "name": "stdout",
     "output_type": "stream",
     "text": [
      "1\n",
      "2\n",
      "3\n",
      "4\n"
     ]
    }
   ],
   "source": [
    "i=1\n",
    "while i<5:\n",
    "    print(i)\n",
    "    i=i+1"
   ]
  },
  {
   "cell_type": "code",
   "execution_count": 16,
   "id": "43984531-26d5-45c8-9bed-80d13c012572",
   "metadata": {},
   "outputs": [
    {
     "name": "stdout",
     "output_type": "stream",
     "text": [
      "potato\n",
      "cabbage\n",
      "onion\n"
     ]
    }
   ],
   "source": [
    "vegetables=['potato','cabbage','onion']\n",
    "for x in vegetables:\n",
    "    print(x)"
   ]
  },
  {
   "cell_type": "code",
   "execution_count": 17,
   "id": "5b7a1441-7b6c-4d60-9959-75d5d7785851",
   "metadata": {},
   "outputs": [
    {
     "data": {
      "text/plain": [
       "0"
      ]
     },
     "execution_count": 17,
     "metadata": {},
     "output_type": "execute_result"
    }
   ],
   "source": [
    "def myfunction(a):\n",
    "    if a%2==0:\n",
    "        return 1\n",
    "    else:\n",
    "        return 0\n",
    "myfunction(5)"
   ]
  },
  {
   "cell_type": "code",
   "execution_count": 18,
   "id": "9c86c713-7caf-4960-a411-fc4e5466b554",
   "metadata": {},
   "outputs": [
    {
     "name": "stdout",
     "output_type": "stream",
     "text": [
      "6\n"
     ]
    }
   ],
   "source": [
    "x=lambda a:a+1\n",
    "print(x(5))"
   ]
  },
  {
   "cell_type": "code",
   "execution_count": 19,
   "id": "33092c48-f6b5-49f1-9cb6-4efdc1990212",
   "metadata": {},
   "outputs": [],
   "source": [
    "#Numpy Basics"
   ]
  },
  {
   "cell_type": "code",
   "execution_count": 20,
   "id": "2ef1b581-1428-4cdc-b064-817fbcbdd4da",
   "metadata": {},
   "outputs": [],
   "source": [
    "import numpy as np"
   ]
  },
  {
   "cell_type": "code",
   "execution_count": 21,
   "id": "01fc81eb-15ea-438e-819e-dab2348351c3",
   "metadata": {},
   "outputs": [
    {
     "data": {
      "text/plain": [
       "array([1, 2, 3, 4])"
      ]
     },
     "execution_count": 21,
     "metadata": {},
     "output_type": "execute_result"
    }
   ],
   "source": [
    "a=np.array([1,2,3,4])\n",
    "a"
   ]
  },
  {
   "cell_type": "code",
   "execution_count": 22,
   "id": "dba17f35-759a-44ee-ad2f-6a7601ed0a5c",
   "metadata": {},
   "outputs": [
    {
     "data": {
      "text/plain": [
       "np.int64(4)"
      ]
     },
     "execution_count": 22,
     "metadata": {},
     "output_type": "execute_result"
    }
   ],
   "source": [
    "a[-1]"
   ]
  },
  {
   "cell_type": "code",
   "execution_count": 24,
   "id": "3a50c5ca-343b-4e2d-bf4e-53b8f0346947",
   "metadata": {},
   "outputs": [
    {
     "data": {
      "text/plain": [
       "array([1, 2, 3, 4, 5, 6, 7, 8, 9])"
      ]
     },
     "execution_count": 24,
     "metadata": {},
     "output_type": "execute_result"
    }
   ],
   "source": [
    "b=np.array([1,2,3,4,5,6,7,8,9])\n",
    "b[0:9]"
   ]
  },
  {
   "cell_type": "code",
   "execution_count": 25,
   "id": "af5b4a8e-9d61-4f0e-9c80-d971fab3cfbf",
   "metadata": {},
   "outputs": [
    {
     "data": {
      "text/plain": [
       "array([1, 2, 3, 4, 5, 6, 7, 8, 9])"
      ]
     },
     "execution_count": 25,
     "metadata": {},
     "output_type": "execute_result"
    }
   ],
   "source": [
    "c=b.copy()\n",
    "c"
   ]
  },
  {
   "cell_type": "code",
   "execution_count": 26,
   "id": "ab2bcec4-25d4-4560-b2e9-d61d65c20758",
   "metadata": {},
   "outputs": [
    {
     "data": {
      "text/plain": [
       "array([1, 2, 3, 4, 5, 6, 7, 8, 9])"
      ]
     },
     "execution_count": 26,
     "metadata": {},
     "output_type": "execute_result"
    }
   ],
   "source": [
    "d=b.view()\n",
    "d"
   ]
  },
  {
   "cell_type": "code",
   "execution_count": 27,
   "id": "af8bf8ff-5fa8-400e-a99d-391791771f27",
   "metadata": {},
   "outputs": [
    {
     "data": {
      "text/plain": [
       "array([1, 2, 3, 4, 5, 6, 7, 8, 9])"
      ]
     },
     "execution_count": 27,
     "metadata": {},
     "output_type": "execute_result"
    }
   ],
   "source": [
    "b[6]=12\n",
    "c"
   ]
  },
  {
   "cell_type": "code",
   "execution_count": 28,
   "id": "c7fc02af-9bdb-4568-ba56-e9986380029f",
   "metadata": {},
   "outputs": [
    {
     "data": {
      "text/plain": [
       "array([ 1,  2,  3,  4,  5,  6, 12,  8,  9])"
      ]
     },
     "execution_count": 28,
     "metadata": {},
     "output_type": "execute_result"
    }
   ],
   "source": [
    "d"
   ]
  },
  {
   "cell_type": "code",
   "execution_count": 29,
   "id": "5e783273-c9d5-4b84-bd6b-9ae07f309b4f",
   "metadata": {},
   "outputs": [
    {
     "data": {
      "text/plain": [
       "array([[ 1,  2,  3],\n",
       "       [ 4,  5,  6],\n",
       "       [ 7,  8,  9],\n",
       "       [10, 11, 12]])"
      ]
     },
     "execution_count": 29,
     "metadata": {},
     "output_type": "execute_result"
    }
   ],
   "source": [
    "a=np.array([1,2,3,4,5,6,7,8,9,10,11,12])\n",
    "b=a.reshape(4,3)\n",
    "b"
   ]
  },
  {
   "cell_type": "code",
   "execution_count": 39,
   "id": "2e1b3ffe-8025-4eff-b402-ea4241c66936",
   "metadata": {},
   "outputs": [
    {
     "data": {
      "text/plain": [
       "array([ 1,  2,  3,  4,  5,  6,  7,  8,  9, 10, 11, 12, 13, 14, 15])"
      ]
     },
     "execution_count": 39,
     "metadata": {},
     "output_type": "execute_result"
    }
   ],
   "source": [
    "c=np.array([13,14,15])\n",
    "d=np.concatenate((a,c))\n",
    "d"
   ]
  },
  {
   "cell_type": "code",
   "execution_count": 40,
   "id": "9667bb21-ec44-4548-b671-47c75d20d382",
   "metadata": {},
   "outputs": [
    {
     "data": {
      "text/plain": [
       "[array([1, 2, 3, 4, 5, 6, 7, 8]), array([ 9, 10, 11, 12, 13, 14, 15])]"
      ]
     },
     "execution_count": 40,
     "metadata": {},
     "output_type": "execute_result"
    }
   ],
   "source": [
    "np.array_split(d,2)"
   ]
  },
  {
   "cell_type": "code",
   "execution_count": 41,
   "id": "d99559b8-1788-456b-a206-4c4099af3206",
   "metadata": {},
   "outputs": [
    {
     "data": {
      "text/plain": [
       "(array([3]),)"
      ]
     },
     "execution_count": 41,
     "metadata": {},
     "output_type": "execute_result"
    }
   ],
   "source": [
    "np.where(d==4)"
   ]
  },
  {
   "cell_type": "code",
   "execution_count": 42,
   "id": "556080ac-eaa9-4edf-8982-ad66ed19c3d0",
   "metadata": {},
   "outputs": [
    {
     "data": {
      "text/plain": [
       "(array([ 1,  3,  5,  7,  9, 11, 13]),)"
      ]
     },
     "execution_count": 42,
     "metadata": {},
     "output_type": "execute_result"
    }
   ],
   "source": [
    "np.where(d%2==0)"
   ]
  },
  {
   "cell_type": "code",
   "execution_count": 43,
   "id": "11cc6827-b6ac-4d5a-9753-4e4301a71310",
   "metadata": {},
   "outputs": [
    {
     "data": {
      "text/plain": [
       "array([ 2,  3,  4,  5, 10])"
      ]
     },
     "execution_count": 43,
     "metadata": {},
     "output_type": "execute_result"
    }
   ],
   "source": [
    "c=np.array([3,4,2,10,5])\n",
    "np.sort(c)"
   ]
  },
  {
   "cell_type": "code",
   "execution_count": 44,
   "id": "d87e1983-8f74-4ab8-90a7-c5e9aca811e1",
   "metadata": {},
   "outputs": [
    {
     "data": {
      "text/plain": [
       "array([[1, 2, 3, 5],\n",
       "       [1, 2, 4, 5]])"
      ]
     },
     "execution_count": 44,
     "metadata": {},
     "output_type": "execute_result"
    }
   ],
   "source": [
    "c=np.array([[2,3,1,5],[5,1,2,4]])\n",
    "np.sort(c)"
   ]
  },
  {
   "cell_type": "code",
   "execution_count": 45,
   "id": "12828ff2-f638-4c43-8c6f-711a9a6d63b6",
   "metadata": {},
   "outputs": [
    {
     "data": {
      "text/plain": [
       "array(['apple', 'banana', 'mango', 'orange'], dtype='<U6')"
      ]
     },
     "execution_count": 45,
     "metadata": {},
     "output_type": "execute_result"
    }
   ],
   "source": [
    "c=np.array(['apple','orange','banana','mango'])\n",
    "np.sort(c)"
   ]
  },
  {
   "cell_type": "code",
   "execution_count": 46,
   "id": "188b015e-2df9-46be-9330-4f351ace633f",
   "metadata": {},
   "outputs": [
    {
     "data": {
      "text/plain": [
       "22"
      ]
     },
     "execution_count": 46,
     "metadata": {},
     "output_type": "execute_result"
    }
   ],
   "source": [
    "np.random.randint(100)"
   ]
  },
  {
   "cell_type": "code",
   "execution_count": 48,
   "id": "9c63395a-644e-4cf4-8788-70080435af4c",
   "metadata": {},
   "outputs": [
    {
     "data": {
      "text/plain": [
       "array([0.87289044, 0.49389449, 0.01623566, 0.13598313, 0.47829253,\n",
       "       0.19180128, 0.38908095, 0.7925124 , 0.522935  , 0.50229161])"
      ]
     },
     "execution_count": 48,
     "metadata": {},
     "output_type": "execute_result"
    }
   ],
   "source": [
    "np.random.rand(10)"
   ]
  },
  {
   "cell_type": "code",
   "execution_count": 49,
   "id": "32e785ba-802b-4133-9a1e-d66d21810cb5",
   "metadata": {},
   "outputs": [
    {
     "data": {
      "text/plain": [
       "array([0., 0., 0., 0., 0.])"
      ]
     },
     "execution_count": 49,
     "metadata": {},
     "output_type": "execute_result"
    }
   ],
   "source": [
    "np.zeros(5)"
   ]
  },
  {
   "cell_type": "code",
   "execution_count": 50,
   "id": "3214f9ca-1e3a-44d6-8a2d-8a058f87a0fb",
   "metadata": {},
   "outputs": [
    {
     "data": {
      "text/plain": [
       "array([1., 1.])"
      ]
     },
     "execution_count": 50,
     "metadata": {},
     "output_type": "execute_result"
    }
   ],
   "source": [
    "np.ones(2)"
   ]
  },
  {
   "cell_type": "code",
   "execution_count": 51,
   "id": "529066d2-1d9c-4ff6-a6a9-175e4a5e969d",
   "metadata": {},
   "outputs": [],
   "source": [
    "#Panda Basics"
   ]
  },
  {
   "cell_type": "code",
   "execution_count": 52,
   "id": "a1c71b21-a959-451f-83e7-077f56840e98",
   "metadata": {},
   "outputs": [],
   "source": [
    "import numpy as np\n",
    "import pandas as pd"
   ]
  },
  {
   "cell_type": "code",
   "execution_count": 53,
   "id": "4d16684c-75e5-4faa-b9c1-06d50270e2d7",
   "metadata": {},
   "outputs": [],
   "source": [
    "dic1={\n",
    "    \"name\":['rohan','seema','mahesh','shruti'],\n",
    "    \"marks\":[9,55,67,98],\n",
    "    \"city\":['Delhi','Jaipur','Rampur','Barilly']\n",
    "}"
   ]
  },
  {
   "cell_type": "code",
   "execution_count": 54,
   "id": "b9072a9f-6a6a-4f0d-aa05-e2ef16b242bc",
   "metadata": {},
   "outputs": [],
   "source": [
    "df=pd.DataFrame(dic1)"
   ]
  },
  {
   "cell_type": "code",
   "execution_count": 55,
   "id": "46932a15-a47b-4c4c-a196-9beff8970bd9",
   "metadata": {},
   "outputs": [
    {
     "data": {
      "text/html": [
       "<div>\n",
       "<style scoped>\n",
       "    .dataframe tbody tr th:only-of-type {\n",
       "        vertical-align: middle;\n",
       "    }\n",
       "\n",
       "    .dataframe tbody tr th {\n",
       "        vertical-align: top;\n",
       "    }\n",
       "\n",
       "    .dataframe thead th {\n",
       "        text-align: right;\n",
       "    }\n",
       "</style>\n",
       "<table border=\"1\" class=\"dataframe\">\n",
       "  <thead>\n",
       "    <tr style=\"text-align: right;\">\n",
       "      <th></th>\n",
       "      <th>name</th>\n",
       "      <th>marks</th>\n",
       "      <th>city</th>\n",
       "    </tr>\n",
       "  </thead>\n",
       "  <tbody>\n",
       "    <tr>\n",
       "      <th>0</th>\n",
       "      <td>rohan</td>\n",
       "      <td>9</td>\n",
       "      <td>Delhi</td>\n",
       "    </tr>\n",
       "    <tr>\n",
       "      <th>1</th>\n",
       "      <td>seema</td>\n",
       "      <td>55</td>\n",
       "      <td>Jaipur</td>\n",
       "    </tr>\n",
       "    <tr>\n",
       "      <th>2</th>\n",
       "      <td>mahesh</td>\n",
       "      <td>67</td>\n",
       "      <td>Rampur</td>\n",
       "    </tr>\n",
       "    <tr>\n",
       "      <th>3</th>\n",
       "      <td>shruti</td>\n",
       "      <td>98</td>\n",
       "      <td>Barilly</td>\n",
       "    </tr>\n",
       "  </tbody>\n",
       "</table>\n",
       "</div>"
      ],
      "text/plain": [
       "     name  marks     city\n",
       "0   rohan      9    Delhi\n",
       "1   seema     55   Jaipur\n",
       "2  mahesh     67   Rampur\n",
       "3  shruti     98  Barilly"
      ]
     },
     "execution_count": 55,
     "metadata": {},
     "output_type": "execute_result"
    }
   ],
   "source": [
    "df"
   ]
  },
  {
   "cell_type": "code",
   "execution_count": 57,
   "id": "863c222c-dff7-4d0a-b64e-511b36578d7f",
   "metadata": {},
   "outputs": [],
   "source": [
    "df.index=[1,2,3,4]"
   ]
  },
  {
   "cell_type": "code",
   "execution_count": 58,
   "id": "44acda77-cefe-4531-bfc5-effb5b82418e",
   "metadata": {},
   "outputs": [
    {
     "data": {
      "text/html": [
       "<div>\n",
       "<style scoped>\n",
       "    .dataframe tbody tr th:only-of-type {\n",
       "        vertical-align: middle;\n",
       "    }\n",
       "\n",
       "    .dataframe tbody tr th {\n",
       "        vertical-align: top;\n",
       "    }\n",
       "\n",
       "    .dataframe thead th {\n",
       "        text-align: right;\n",
       "    }\n",
       "</style>\n",
       "<table border=\"1\" class=\"dataframe\">\n",
       "  <thead>\n",
       "    <tr style=\"text-align: right;\">\n",
       "      <th></th>\n",
       "      <th>name</th>\n",
       "      <th>marks</th>\n",
       "      <th>city</th>\n",
       "    </tr>\n",
       "  </thead>\n",
       "  <tbody>\n",
       "    <tr>\n",
       "      <th>1</th>\n",
       "      <td>rohan</td>\n",
       "      <td>9</td>\n",
       "      <td>Delhi</td>\n",
       "    </tr>\n",
       "    <tr>\n",
       "      <th>2</th>\n",
       "      <td>seema</td>\n",
       "      <td>55</td>\n",
       "      <td>Jaipur</td>\n",
       "    </tr>\n",
       "    <tr>\n",
       "      <th>3</th>\n",
       "      <td>mahesh</td>\n",
       "      <td>67</td>\n",
       "      <td>Rampur</td>\n",
       "    </tr>\n",
       "    <tr>\n",
       "      <th>4</th>\n",
       "      <td>shruti</td>\n",
       "      <td>98</td>\n",
       "      <td>Barilly</td>\n",
       "    </tr>\n",
       "  </tbody>\n",
       "</table>\n",
       "</div>"
      ],
      "text/plain": [
       "     name  marks     city\n",
       "1   rohan      9    Delhi\n",
       "2   seema     55   Jaipur\n",
       "3  mahesh     67   Rampur\n",
       "4  shruti     98  Barilly"
      ]
     },
     "execution_count": 58,
     "metadata": {},
     "output_type": "execute_result"
    }
   ],
   "source": [
    "df"
   ]
  },
  {
   "cell_type": "code",
   "execution_count": 59,
   "id": "9bc0ff59-05c8-4616-8890-589e51ec9efb",
   "metadata": {},
   "outputs": [
    {
     "data": {
      "text/plain": [
       "0     0.004614\n",
       "1     0.927907\n",
       "2     0.474816\n",
       "3     0.255655\n",
       "4     0.565767\n",
       "5     0.764705\n",
       "6     0.632539\n",
       "7     0.237589\n",
       "8     0.301721\n",
       "9     0.391843\n",
       "10    0.160798\n",
       "11    0.535298\n",
       "12    0.194503\n",
       "13    0.220850\n",
       "14    0.493815\n",
       "15    0.771809\n",
       "16    0.500173\n",
       "17    0.406409\n",
       "18    0.323309\n",
       "19    0.083264\n",
       "dtype: float64"
      ]
     },
     "execution_count": 59,
     "metadata": {},
     "output_type": "execute_result"
    }
   ],
   "source": [
    "ser=pd.Series(np.random.rand(20))\n",
    "ser"
   ]
  },
  {
   "cell_type": "code",
   "execution_count": 60,
   "id": "83404fdd-8e5b-4d66-a17f-868166b1d52f",
   "metadata": {},
   "outputs": [
    {
     "data": {
      "text/plain": [
       "pandas.core.series.Series"
      ]
     },
     "execution_count": 60,
     "metadata": {},
     "output_type": "execute_result"
    }
   ],
   "source": [
    "type(ser)"
   ]
  },
  {
   "cell_type": "code",
   "execution_count": 62,
   "id": "e60aa88a-fef4-4347-8f79-e2cb47bf97fd",
   "metadata": {},
   "outputs": [],
   "source": [
    "newdf=pd.DataFrame(np.random.rand(334,5),index=np.arange(334))"
   ]
  },
  {
   "cell_type": "code",
   "execution_count": 63,
   "id": "e467a125-59ff-44a1-a97c-eb4b90a1f9d7",
   "metadata": {},
   "outputs": [
    {
     "data": {
      "text/html": [
       "<div>\n",
       "<style scoped>\n",
       "    .dataframe tbody tr th:only-of-type {\n",
       "        vertical-align: middle;\n",
       "    }\n",
       "\n",
       "    .dataframe tbody tr th {\n",
       "        vertical-align: top;\n",
       "    }\n",
       "\n",
       "    .dataframe thead th {\n",
       "        text-align: right;\n",
       "    }\n",
       "</style>\n",
       "<table border=\"1\" class=\"dataframe\">\n",
       "  <thead>\n",
       "    <tr style=\"text-align: right;\">\n",
       "      <th></th>\n",
       "      <th>0</th>\n",
       "      <th>1</th>\n",
       "      <th>2</th>\n",
       "      <th>3</th>\n",
       "      <th>4</th>\n",
       "    </tr>\n",
       "  </thead>\n",
       "  <tbody>\n",
       "    <tr>\n",
       "      <th>0</th>\n",
       "      <td>0.433174</td>\n",
       "      <td>0.876117</td>\n",
       "      <td>0.517518</td>\n",
       "      <td>0.676371</td>\n",
       "      <td>0.051198</td>\n",
       "    </tr>\n",
       "    <tr>\n",
       "      <th>1</th>\n",
       "      <td>0.808642</td>\n",
       "      <td>0.574713</td>\n",
       "      <td>0.621850</td>\n",
       "      <td>0.296627</td>\n",
       "      <td>0.889921</td>\n",
       "    </tr>\n",
       "    <tr>\n",
       "      <th>2</th>\n",
       "      <td>0.972093</td>\n",
       "      <td>0.862305</td>\n",
       "      <td>0.185767</td>\n",
       "      <td>0.420970</td>\n",
       "      <td>0.368922</td>\n",
       "    </tr>\n",
       "    <tr>\n",
       "      <th>3</th>\n",
       "      <td>0.255399</td>\n",
       "      <td>0.435936</td>\n",
       "      <td>0.360749</td>\n",
       "      <td>0.834497</td>\n",
       "      <td>0.901796</td>\n",
       "    </tr>\n",
       "    <tr>\n",
       "      <th>4</th>\n",
       "      <td>0.117763</td>\n",
       "      <td>0.116533</td>\n",
       "      <td>0.643665</td>\n",
       "      <td>0.041439</td>\n",
       "      <td>0.214610</td>\n",
       "    </tr>\n",
       "    <tr>\n",
       "      <th>...</th>\n",
       "      <td>...</td>\n",
       "      <td>...</td>\n",
       "      <td>...</td>\n",
       "      <td>...</td>\n",
       "      <td>...</td>\n",
       "    </tr>\n",
       "    <tr>\n",
       "      <th>329</th>\n",
       "      <td>0.606099</td>\n",
       "      <td>0.649082</td>\n",
       "      <td>0.740178</td>\n",
       "      <td>0.352859</td>\n",
       "      <td>0.924053</td>\n",
       "    </tr>\n",
       "    <tr>\n",
       "      <th>330</th>\n",
       "      <td>0.868915</td>\n",
       "      <td>0.039399</td>\n",
       "      <td>0.818450</td>\n",
       "      <td>0.882504</td>\n",
       "      <td>0.201175</td>\n",
       "    </tr>\n",
       "    <tr>\n",
       "      <th>331</th>\n",
       "      <td>0.937144</td>\n",
       "      <td>0.610560</td>\n",
       "      <td>0.646106</td>\n",
       "      <td>0.947146</td>\n",
       "      <td>0.207415</td>\n",
       "    </tr>\n",
       "    <tr>\n",
       "      <th>332</th>\n",
       "      <td>0.527172</td>\n",
       "      <td>0.437952</td>\n",
       "      <td>0.597648</td>\n",
       "      <td>0.492257</td>\n",
       "      <td>0.467256</td>\n",
       "    </tr>\n",
       "    <tr>\n",
       "      <th>333</th>\n",
       "      <td>0.889787</td>\n",
       "      <td>0.130349</td>\n",
       "      <td>0.163789</td>\n",
       "      <td>0.113256</td>\n",
       "      <td>0.717820</td>\n",
       "    </tr>\n",
       "  </tbody>\n",
       "</table>\n",
       "<p>334 rows × 5 columns</p>\n",
       "</div>"
      ],
      "text/plain": [
       "            0         1         2         3         4\n",
       "0    0.433174  0.876117  0.517518  0.676371  0.051198\n",
       "1    0.808642  0.574713  0.621850  0.296627  0.889921\n",
       "2    0.972093  0.862305  0.185767  0.420970  0.368922\n",
       "3    0.255399  0.435936  0.360749  0.834497  0.901796\n",
       "4    0.117763  0.116533  0.643665  0.041439  0.214610\n",
       "..        ...       ...       ...       ...       ...\n",
       "329  0.606099  0.649082  0.740178  0.352859  0.924053\n",
       "330  0.868915  0.039399  0.818450  0.882504  0.201175\n",
       "331  0.937144  0.610560  0.646106  0.947146  0.207415\n",
       "332  0.527172  0.437952  0.597648  0.492257  0.467256\n",
       "333  0.889787  0.130349  0.163789  0.113256  0.717820\n",
       "\n",
       "[334 rows x 5 columns]"
      ]
     },
     "execution_count": 63,
     "metadata": {},
     "output_type": "execute_result"
    }
   ],
   "source": [
    "newdf"
   ]
  },
  {
   "cell_type": "code",
   "execution_count": 64,
   "id": "a9ff296b-7e1f-460e-ab50-fd365e4e6da2",
   "metadata": {},
   "outputs": [
    {
     "data": {
      "text/html": [
       "<div>\n",
       "<style scoped>\n",
       "    .dataframe tbody tr th:only-of-type {\n",
       "        vertical-align: middle;\n",
       "    }\n",
       "\n",
       "    .dataframe tbody tr th {\n",
       "        vertical-align: top;\n",
       "    }\n",
       "\n",
       "    .dataframe thead th {\n",
       "        text-align: right;\n",
       "    }\n",
       "</style>\n",
       "<table border=\"1\" class=\"dataframe\">\n",
       "  <thead>\n",
       "    <tr style=\"text-align: right;\">\n",
       "      <th></th>\n",
       "      <th>0</th>\n",
       "      <th>1</th>\n",
       "      <th>2</th>\n",
       "      <th>3</th>\n",
       "      <th>4</th>\n",
       "    </tr>\n",
       "  </thead>\n",
       "  <tbody>\n",
       "    <tr>\n",
       "      <th>0</th>\n",
       "      <td>0.433174</td>\n",
       "      <td>0.876117</td>\n",
       "      <td>0.517518</td>\n",
       "      <td>0.676371</td>\n",
       "      <td>0.051198</td>\n",
       "    </tr>\n",
       "    <tr>\n",
       "      <th>1</th>\n",
       "      <td>0.808642</td>\n",
       "      <td>0.574713</td>\n",
       "      <td>0.621850</td>\n",
       "      <td>0.296627</td>\n",
       "      <td>0.889921</td>\n",
       "    </tr>\n",
       "    <tr>\n",
       "      <th>2</th>\n",
       "      <td>0.972093</td>\n",
       "      <td>0.862305</td>\n",
       "      <td>0.185767</td>\n",
       "      <td>0.420970</td>\n",
       "      <td>0.368922</td>\n",
       "    </tr>\n",
       "  </tbody>\n",
       "</table>\n",
       "</div>"
      ],
      "text/plain": [
       "          0         1         2         3         4\n",
       "0  0.433174  0.876117  0.517518  0.676371  0.051198\n",
       "1  0.808642  0.574713  0.621850  0.296627  0.889921\n",
       "2  0.972093  0.862305  0.185767  0.420970  0.368922"
      ]
     },
     "execution_count": 64,
     "metadata": {},
     "output_type": "execute_result"
    }
   ],
   "source": [
    "newdf.head(3)"
   ]
  },
  {
   "cell_type": "code",
   "execution_count": 65,
   "id": "b0666a07-7337-4884-ad66-56741fe34bd4",
   "metadata": {},
   "outputs": [
    {
     "data": {
      "text/html": [
       "<div>\n",
       "<style scoped>\n",
       "    .dataframe tbody tr th:only-of-type {\n",
       "        vertical-align: middle;\n",
       "    }\n",
       "\n",
       "    .dataframe tbody tr th {\n",
       "        vertical-align: top;\n",
       "    }\n",
       "\n",
       "    .dataframe thead th {\n",
       "        text-align: right;\n",
       "    }\n",
       "</style>\n",
       "<table border=\"1\" class=\"dataframe\">\n",
       "  <thead>\n",
       "    <tr style=\"text-align: right;\">\n",
       "      <th></th>\n",
       "      <th>0</th>\n",
       "      <th>1</th>\n",
       "      <th>2</th>\n",
       "      <th>3</th>\n",
       "      <th>4</th>\n",
       "    </tr>\n",
       "  </thead>\n",
       "  <tbody>\n",
       "    <tr>\n",
       "      <th>331</th>\n",
       "      <td>0.937144</td>\n",
       "      <td>0.610560</td>\n",
       "      <td>0.646106</td>\n",
       "      <td>0.947146</td>\n",
       "      <td>0.207415</td>\n",
       "    </tr>\n",
       "    <tr>\n",
       "      <th>332</th>\n",
       "      <td>0.527172</td>\n",
       "      <td>0.437952</td>\n",
       "      <td>0.597648</td>\n",
       "      <td>0.492257</td>\n",
       "      <td>0.467256</td>\n",
       "    </tr>\n",
       "    <tr>\n",
       "      <th>333</th>\n",
       "      <td>0.889787</td>\n",
       "      <td>0.130349</td>\n",
       "      <td>0.163789</td>\n",
       "      <td>0.113256</td>\n",
       "      <td>0.717820</td>\n",
       "    </tr>\n",
       "  </tbody>\n",
       "</table>\n",
       "</div>"
      ],
      "text/plain": [
       "            0         1         2         3         4\n",
       "331  0.937144  0.610560  0.646106  0.947146  0.207415\n",
       "332  0.527172  0.437952  0.597648  0.492257  0.467256\n",
       "333  0.889787  0.130349  0.163789  0.113256  0.717820"
      ]
     },
     "execution_count": 65,
     "metadata": {},
     "output_type": "execute_result"
    }
   ],
   "source": [
    "newdf.tail(3)"
   ]
  },
  {
   "cell_type": "code",
   "execution_count": 66,
   "id": "03719819-2abb-482b-8a96-11baa72303e3",
   "metadata": {},
   "outputs": [
    {
     "data": {
      "text/html": [
       "<div>\n",
       "<style scoped>\n",
       "    .dataframe tbody tr th:only-of-type {\n",
       "        vertical-align: middle;\n",
       "    }\n",
       "\n",
       "    .dataframe tbody tr th {\n",
       "        vertical-align: top;\n",
       "    }\n",
       "\n",
       "    .dataframe thead th {\n",
       "        text-align: right;\n",
       "    }\n",
       "</style>\n",
       "<table border=\"1\" class=\"dataframe\">\n",
       "  <thead>\n",
       "    <tr style=\"text-align: right;\">\n",
       "      <th></th>\n",
       "      <th>0</th>\n",
       "      <th>1</th>\n",
       "      <th>2</th>\n",
       "      <th>3</th>\n",
       "      <th>4</th>\n",
       "    </tr>\n",
       "  </thead>\n",
       "  <tbody>\n",
       "    <tr>\n",
       "      <th>0</th>\n",
       "      <td>0.433174</td>\n",
       "      <td>0.876117</td>\n",
       "      <td>0.517518</td>\n",
       "      <td>0.676371</td>\n",
       "      <td>0.051198</td>\n",
       "    </tr>\n",
       "    <tr>\n",
       "      <th>1</th>\n",
       "      <td>0.808642</td>\n",
       "      <td>0.574713</td>\n",
       "      <td>0.621850</td>\n",
       "      <td>0.296627</td>\n",
       "      <td>0.889921</td>\n",
       "    </tr>\n",
       "    <tr>\n",
       "      <th>2</th>\n",
       "      <td>0.972093</td>\n",
       "      <td>0.862305</td>\n",
       "      <td>0.185767</td>\n",
       "      <td>0.420970</td>\n",
       "      <td>0.368922</td>\n",
       "    </tr>\n",
       "    <tr>\n",
       "      <th>3</th>\n",
       "      <td>0.255399</td>\n",
       "      <td>0.435936</td>\n",
       "      <td>0.360749</td>\n",
       "      <td>0.834497</td>\n",
       "      <td>0.901796</td>\n",
       "    </tr>\n",
       "    <tr>\n",
       "      <th>4</th>\n",
       "      <td>0.117763</td>\n",
       "      <td>0.116533</td>\n",
       "      <td>0.643665</td>\n",
       "      <td>0.041439</td>\n",
       "      <td>0.214610</td>\n",
       "    </tr>\n",
       "    <tr>\n",
       "      <th>...</th>\n",
       "      <td>...</td>\n",
       "      <td>...</td>\n",
       "      <td>...</td>\n",
       "      <td>...</td>\n",
       "      <td>...</td>\n",
       "    </tr>\n",
       "    <tr>\n",
       "      <th>329</th>\n",
       "      <td>0.606099</td>\n",
       "      <td>0.649082</td>\n",
       "      <td>0.740178</td>\n",
       "      <td>0.352859</td>\n",
       "      <td>0.924053</td>\n",
       "    </tr>\n",
       "    <tr>\n",
       "      <th>330</th>\n",
       "      <td>0.868915</td>\n",
       "      <td>0.039399</td>\n",
       "      <td>0.818450</td>\n",
       "      <td>0.882504</td>\n",
       "      <td>0.201175</td>\n",
       "    </tr>\n",
       "    <tr>\n",
       "      <th>331</th>\n",
       "      <td>0.937144</td>\n",
       "      <td>0.610560</td>\n",
       "      <td>0.646106</td>\n",
       "      <td>0.947146</td>\n",
       "      <td>0.207415</td>\n",
       "    </tr>\n",
       "    <tr>\n",
       "      <th>332</th>\n",
       "      <td>0.527172</td>\n",
       "      <td>0.437952</td>\n",
       "      <td>0.597648</td>\n",
       "      <td>0.492257</td>\n",
       "      <td>0.467256</td>\n",
       "    </tr>\n",
       "    <tr>\n",
       "      <th>333</th>\n",
       "      <td>0.889787</td>\n",
       "      <td>0.130349</td>\n",
       "      <td>0.163789</td>\n",
       "      <td>0.113256</td>\n",
       "      <td>0.717820</td>\n",
       "    </tr>\n",
       "  </tbody>\n",
       "</table>\n",
       "<p>334 rows × 5 columns</p>\n",
       "</div>"
      ],
      "text/plain": [
       "            0         1         2         3         4\n",
       "0    0.433174  0.876117  0.517518  0.676371  0.051198\n",
       "1    0.808642  0.574713  0.621850  0.296627  0.889921\n",
       "2    0.972093  0.862305  0.185767  0.420970  0.368922\n",
       "3    0.255399  0.435936  0.360749  0.834497  0.901796\n",
       "4    0.117763  0.116533  0.643665  0.041439  0.214610\n",
       "..        ...       ...       ...       ...       ...\n",
       "329  0.606099  0.649082  0.740178  0.352859  0.924053\n",
       "330  0.868915  0.039399  0.818450  0.882504  0.201175\n",
       "331  0.937144  0.610560  0.646106  0.947146  0.207415\n",
       "332  0.527172  0.437952  0.597648  0.492257  0.467256\n",
       "333  0.889787  0.130349  0.163789  0.113256  0.717820\n",
       "\n",
       "[334 rows x 5 columns]"
      ]
     },
     "execution_count": 66,
     "metadata": {},
     "output_type": "execute_result"
    }
   ],
   "source": [
    "newdf.sort_index(axis=0)"
   ]
  },
  {
   "cell_type": "code",
   "execution_count": 67,
   "id": "d4957e18-67f9-4dec-9328-54ff1f56271d",
   "metadata": {},
   "outputs": [
    {
     "data": {
      "text/html": [
       "<div>\n",
       "<style scoped>\n",
       "    .dataframe tbody tr th:only-of-type {\n",
       "        vertical-align: middle;\n",
       "    }\n",
       "\n",
       "    .dataframe tbody tr th {\n",
       "        vertical-align: top;\n",
       "    }\n",
       "\n",
       "    .dataframe thead th {\n",
       "        text-align: right;\n",
       "    }\n",
       "</style>\n",
       "<table border=\"1\" class=\"dataframe\">\n",
       "  <thead>\n",
       "    <tr style=\"text-align: right;\">\n",
       "      <th></th>\n",
       "      <th>1</th>\n",
       "      <th>2</th>\n",
       "      <th>3</th>\n",
       "      <th>4</th>\n",
       "    </tr>\n",
       "  </thead>\n",
       "  <tbody>\n",
       "    <tr>\n",
       "      <th>0</th>\n",
       "      <td>0.876117</td>\n",
       "      <td>0.517518</td>\n",
       "      <td>0.676371</td>\n",
       "      <td>0.051198</td>\n",
       "    </tr>\n",
       "    <tr>\n",
       "      <th>1</th>\n",
       "      <td>0.574713</td>\n",
       "      <td>0.621850</td>\n",
       "      <td>0.296627</td>\n",
       "      <td>0.889921</td>\n",
       "    </tr>\n",
       "    <tr>\n",
       "      <th>2</th>\n",
       "      <td>0.862305</td>\n",
       "      <td>0.185767</td>\n",
       "      <td>0.420970</td>\n",
       "      <td>0.368922</td>\n",
       "    </tr>\n",
       "    <tr>\n",
       "      <th>3</th>\n",
       "      <td>0.435936</td>\n",
       "      <td>0.360749</td>\n",
       "      <td>0.834497</td>\n",
       "      <td>0.901796</td>\n",
       "    </tr>\n",
       "    <tr>\n",
       "      <th>4</th>\n",
       "      <td>0.116533</td>\n",
       "      <td>0.643665</td>\n",
       "      <td>0.041439</td>\n",
       "      <td>0.214610</td>\n",
       "    </tr>\n",
       "    <tr>\n",
       "      <th>...</th>\n",
       "      <td>...</td>\n",
       "      <td>...</td>\n",
       "      <td>...</td>\n",
       "      <td>...</td>\n",
       "    </tr>\n",
       "    <tr>\n",
       "      <th>329</th>\n",
       "      <td>0.649082</td>\n",
       "      <td>0.740178</td>\n",
       "      <td>0.352859</td>\n",
       "      <td>0.924053</td>\n",
       "    </tr>\n",
       "    <tr>\n",
       "      <th>330</th>\n",
       "      <td>0.039399</td>\n",
       "      <td>0.818450</td>\n",
       "      <td>0.882504</td>\n",
       "      <td>0.201175</td>\n",
       "    </tr>\n",
       "    <tr>\n",
       "      <th>331</th>\n",
       "      <td>0.610560</td>\n",
       "      <td>0.646106</td>\n",
       "      <td>0.947146</td>\n",
       "      <td>0.207415</td>\n",
       "    </tr>\n",
       "    <tr>\n",
       "      <th>332</th>\n",
       "      <td>0.437952</td>\n",
       "      <td>0.597648</td>\n",
       "      <td>0.492257</td>\n",
       "      <td>0.467256</td>\n",
       "    </tr>\n",
       "    <tr>\n",
       "      <th>333</th>\n",
       "      <td>0.130349</td>\n",
       "      <td>0.163789</td>\n",
       "      <td>0.113256</td>\n",
       "      <td>0.717820</td>\n",
       "    </tr>\n",
       "  </tbody>\n",
       "</table>\n",
       "<p>334 rows × 4 columns</p>\n",
       "</div>"
      ],
      "text/plain": [
       "            1         2         3         4\n",
       "0    0.876117  0.517518  0.676371  0.051198\n",
       "1    0.574713  0.621850  0.296627  0.889921\n",
       "2    0.862305  0.185767  0.420970  0.368922\n",
       "3    0.435936  0.360749  0.834497  0.901796\n",
       "4    0.116533  0.643665  0.041439  0.214610\n",
       "..        ...       ...       ...       ...\n",
       "329  0.649082  0.740178  0.352859  0.924053\n",
       "330  0.039399  0.818450  0.882504  0.201175\n",
       "331  0.610560  0.646106  0.947146  0.207415\n",
       "332  0.437952  0.597648  0.492257  0.467256\n",
       "333  0.130349  0.163789  0.113256  0.717820\n",
       "\n",
       "[334 rows x 4 columns]"
      ]
     },
     "execution_count": 67,
     "metadata": {},
     "output_type": "execute_result"
    }
   ],
   "source": [
    "newdf.drop(0,axis=1)"
   ]
  },
  {
   "cell_type": "code",
   "execution_count": 68,
   "id": "e08a0a6e-0ddc-4396-a341-f27d963d7fa5",
   "metadata": {},
   "outputs": [],
   "source": [
    "newdf.dropna(inplace=True)"
   ]
  },
  {
   "cell_type": "code",
   "execution_count": null,
   "id": "067a5043-a90c-4bd4-8e3f-fb602a7110bc",
   "metadata": {},
   "outputs": [],
   "source": []
  }
 ],
 "metadata": {
  "kernelspec": {
   "display_name": "Python 3 (ipykernel)",
   "language": "python",
   "name": "python3"
  },
  "language_info": {
   "codemirror_mode": {
    "name": "ipython",
    "version": 3
   },
   "file_extension": ".py",
   "mimetype": "text/x-python",
   "name": "python",
   "nbconvert_exporter": "python",
   "pygments_lexer": "ipython3",
   "version": "3.11.9"
  }
 },
 "nbformat": 4,
 "nbformat_minor": 5
}
