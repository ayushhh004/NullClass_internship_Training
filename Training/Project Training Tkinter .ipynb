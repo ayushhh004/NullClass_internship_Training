{
 "cells": [
  {
   "cell_type": "code",
   "execution_count": 1,
   "id": "3d86baf7-8014-4339-95f4-35da3055bcce",
   "metadata": {},
   "outputs": [],
   "source": [
    "import tkinter as tk\n",
    "from tkinter import ttk\n",
    "from tkinter import messagebox\n",
    "import pandas as pd\n",
    "import numpy as np\n",
    "import matplotlib.pyplot as plt\n",
    "import seaborn as sns\n",
    "from matplotlib.backends.backend_tkagg import FigureCanvasTkAgg\n",
    "from sklearn.model_selection import train_test_split\n",
    "from sklearn.ensemble import RandomForestRegressor\n",
    "from sklearn.metrics import mean_squared_error, r2_score\n",
    "from nltk.sentiment.vader import SentimentIntensityAnalyzer\n",
    "import nltk"
   ]
  },
  {
   "cell_type": "code",
   "execution_count": 2,
   "id": "356cc5c5-e26b-4920-b29c-0b34678ff327",
   "metadata": {},
   "outputs": [],
   "source": [
    "apps_df = pd.read_csv(\"C:/Users/Ayush Singh/Downloads/google_play_store_data/googleplaystore.csv\")\n",
    "reviews_df = pd.read_csv(\"C:/Users/Ayush Singh/Downloads/google_play_store_data/googleplaystore_user_reviews.csv\")"
   ]
  },
  {
   "cell_type": "code",
   "execution_count": 3,
   "id": "8ed2f291-b54a-42e4-bb06-62c08374ff2a",
   "metadata": {},
   "outputs": [],
   "source": [
    "#Step 2 : Data Cleaning\n",
    "apps_df = apps_df.dropna(subset=['Rating'])\n",
    "apps_df = apps_df.dropna(subset=['Rating'])\n",
    "for column in apps_df.columns :\n",
    "    apps_df[column].fillna(apps_df[column].mode()[0])\n",
    "apps_df = apps_df.drop_duplicates()\n",
    "apps_df = apps_df[apps_df['Rating'] <= 5]\n",
    "reviews_df = reviews_df.dropna(subset=['Translated_Review'])"
   ]
  },
  {
   "cell_type": "code",
   "execution_count": 4,
   "id": "895bfb9d-8e83-41bb-b251-127b306d3fc4",
   "metadata": {},
   "outputs": [],
   "source": [
    "merged_df = pd.merge(apps_df, reviews_df, on='App', how='inner')"
   ]
  },
  {
   "cell_type": "code",
   "execution_count": 5,
   "id": "9433d663-6e73-4f49-bcb7-2289685268de",
   "metadata": {},
   "outputs": [],
   "source": [
    "apps_df['Reviews'] = apps_df['Reviews'].astype(int)\n",
    "apps_df['Installs'] = apps_df['Installs'].str.replace(',', '').str.replace('+', '').astype(int)\n",
    "apps_df['Price'] = apps_df['Price'].str.replace('$', '').astype(float)"
   ]
  },
  {
   "cell_type": "code",
   "execution_count": 6,
   "id": "6c395b27-e4b3-4bef-b827-0bdf09155193",
   "metadata": {},
   "outputs": [],
   "source": [
    "def convert_size(size):\n",
    "    if 'M' in size:\n",
    "        return float(size.replace('M', ''))\n",
    "    elif 'k' in size:\n",
    "        return float(size.replace('k', '')) / 1024\n",
    "    else:\n",
    "        return np.nan"
   ]
  },
  {
   "cell_type": "code",
   "execution_count": 7,
   "id": "cc0d20f0-07e4-44ea-8065-9a92251219df",
   "metadata": {},
   "outputs": [],
   "source": [
    "apps_df['Size'] = apps_df['Size'].apply(convert_size)"
   ]
  },
  {
   "cell_type": "code",
   "execution_count": 8,
   "id": "58df9e53-3f65-43a6-b546-5e4dfe50ca50",
   "metadata": {},
   "outputs": [],
   "source": [
    "apps_df['Log_Installs'] = np.log1p(apps_df['Installs'])\n",
    "apps_df['Log_Reviews'] = np.log1p(apps_df['Reviews'])"
   ]
  },
  {
   "cell_type": "code",
   "execution_count": 9,
   "id": "e2da780e-7711-4f93-95f2-bbc952bc9e15",
   "metadata": {},
   "outputs": [],
   "source": [
    "def rating_group(rating):\n",
    "    if rating >= 4:\n",
    "        return 'Top rated'\n",
    "    elif rating >= 3:\n",
    "        return 'Above average'\n",
    "    elif rating >= 2:\n",
    "        return 'Average'\n",
    "    else:\n",
    "        return 'Below average'\n",
    "\n",
    "apps_df['Rating_Group'] = apps_df['Rating'].apply(rating_group)"
   ]
  },
  {
   "cell_type": "code",
   "execution_count": 10,
   "id": "f25de7d2-442b-419c-b307-ac20ae8ea5e2",
   "metadata": {},
   "outputs": [],
   "source": [
    "apps_df['Revenue'] = apps_df['Price'] * apps_df['Installs']"
   ]
  },
  {
   "cell_type": "code",
   "execution_count": 11,
   "id": "3d6f407c-3562-42c3-8b9a-84718ac044e7",
   "metadata": {},
   "outputs": [],
   "source": [
    "sia = SentimentIntensityAnalyzer()\n",
    "reviews_df['Sentiment_Score'] = reviews_df['Translated_Review'].apply(lambda x: sia.polarity_scores(str(x))['compound'])"
   ]
  },
  {
   "cell_type": "code",
   "execution_count": 12,
   "id": "e4cc2af9-84de-4b75-96a8-1f277b1e2e72",
   "metadata": {},
   "outputs": [],
   "source": [
    "apps_df['Last Updated'] = pd.to_datetime(apps_df['Last Updated'], errors='coerce')\n",
    "apps_df['Year'] = apps_df['Last Updated'].dt.year"
   ]
  },
  {
   "cell_type": "code",
   "execution_count": null,
   "id": "5189787f-bb7f-460b-b37c-005f93c00e02",
   "metadata": {},
   "outputs": [],
   "source": []
  }
 ],
 "metadata": {
  "kernelspec": {
   "display_name": "Python 3 (ipykernel)",
   "language": "python",
   "name": "python3"
  },
  "language_info": {
   "codemirror_mode": {
    "name": "ipython",
    "version": 3
   },
   "file_extension": ".py",
   "mimetype": "text/x-python",
   "name": "python",
   "nbconvert_exporter": "python",
   "pygments_lexer": "ipython3",
   "version": "3.11.9"
  }
 },
 "nbformat": 4,
 "nbformat_minor": 5
}
